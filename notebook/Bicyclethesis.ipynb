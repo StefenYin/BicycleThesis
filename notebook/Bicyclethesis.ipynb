{
 "metadata": {
  "name": "Bicyclethesis"
 }, 
 "nbformat": 2, 
 "worksheets": [
  {
   "cells": [
    {
     "cell_type": "code", 
     "collapsed": true, 
     "input": [
      "from sympy.physics.mechanics import mprint", 
      "import sympy as sym"
     ], 
     "language": "python", 
     "outputs": [], 
     "prompt_number": 20
    }, 
    {
     "cell_type": "code", 
     "collapsed": true, 
     "input": [], 
     "language": "python", 
     "outputs": []
    }, 
    {
     "cell_type": "code", 
     "collapsed": true, 
     "input": [
      "# holonomic equations from BicycleThesis.model.py module"
     ], 
     "language": "python", 
     "outputs": [], 
     "prompt_number": 2
    }, 
    {
     "cell_type": "code", 
     "collapsed": false, 
     "input": [
      "cd /home/stefenyin/bicycle/BicycleThesis/constraint/"
     ], 
     "language": "python", 
     "outputs": [
      {
       "output_type": "stream", 
       "stream": "stdout", 
       "text": [
        "/home/stefenyin/bicycle/BicycleThesis/constraint"
       ]
      }
     ], 
     "prompt_number": 3
    }, 
    {
     "cell_type": "code", 
     "collapsed": false, 
     "input": [
      "import model as mo", 
      "bimodel = mo.BicycleModel()"
     ], 
     "language": "python", 
     "outputs": [
      {
       "output_type": "stream", 
       "stream": "stdout", 
       "text": [
        "Kanes Method"
       ]
      }
     ], 
     "prompt_number": 4
    }, 
    {
     "cell_type": "code", 
     "collapsed": false, 
     "input": [
      "mprint(bimodel.holonomic)"
     ], 
     "language": "python", 
     "outputs": [
      {
       "output_type": "stream", 
       "stream": "stdout", 
       "text": [
        "[-d1*sin(q3)*cos(q2) - rr*cos(q2) + (d2 + rf*cos(q2)*cos(q3)/sqrt((sin(q2)*sin(q4) - sin(q3)*cos(q2)*cos(q4))**2 + cos(q2)**2*cos(q3)**2))*cos(q2)*cos(q3) + (d3 + rf*(sin(q2)*sin(q4) - sin(q3)*cos(q2)*cos(q4))/sqrt((sin(q2)*sin(q4) - sin(q3)*cos(q2)*cos(q4))**2 + cos(q2)**2*cos(q3)**2))*(sin(q2)*sin(q4) - sin(q3)*cos(q2)*cos(q4))]"
       ]
      }
     ], 
     "prompt_number": 5
    }, 
    {
     "cell_type": "code", 
     "collapsed": true, 
     "input": [], 
     "language": "python", 
     "outputs": [], 
     "prompt_number": 5
    }, 
    {
     "cell_type": "code", 
     "collapsed": true, 
     "input": [
      "# model validation"
     ], 
     "language": "python", 
     "outputs": [], 
     "prompt_number": 6
    }, 
    {
     "cell_type": "code", 
     "collapsed": false, 
     "input": [
      "run test_model"
     ], 
     "language": "python", 
     "outputs": [
      {
       "output_type": "stream", 
       "stream": "stdout", 
       "text": [
        "bicycle model", 
        "Kanes Method"
       ]
      }, 
      {
       "output_type": "stream", 
       "stream": "stdout", 
       "text": [
        "", 
        "parameters"
       ]
      }, 
      {
       "output_type": "stream", 
       "stream": "stdout", 
       "text": [
        "", 
        "zero auxiliary speeds", 
        "", 
        "basu for nonlinear model", 
        "linearized model"
       ]
      }, 
      {
       "output_type": "stream", 
       "stream": "stdout", 
       "text": []
      }
     ], 
     "prompt_number": 7
    }, 
    {
     "cell_type": "code", 
     "collapsed": false, 
     "input": [
      "# nonlinear", 
      "output_cal"
     ], 
     "language": "python", 
     "outputs": [
      {
       "output_type": "pyout", 
       "prompt_number": 8, 
       "text": [
        "[  -0.7830033527065]", 
        "[  -0.6068425835418]", 
        "[  -0.4859824687093]", 
        "[   0.0119185528069]", 
        "[  7.85552811282438]", 
        "[  4.61989040393912]", 
        "[ -1.84725541442195]", 
        "[-0.835328170637695]", 
        "[-0.120554389788597]", 
        "[ -2.45480729045529]"
       ]
      }
     ], 
     "prompt_number": 8
    }, 
    {
     "cell_type": "code", 
     "collapsed": false, 
     "input": [
      "# linearized", 
      "mprint(Am)", 
      "", 
      "from scipy.linalg import eig", 
      "v = sym.symbols('v')", 
      "# set 6 m/s speeds", 
      "Am_6speed = Am.subs({v: 6.0})", 
      "#Am_array = asarray(Am_6speed)", 
      "#Am_list = Am_array.tolist()", 
      "", 
      "#assertation: ", 
      "#import dtk.bicycle as bicycle", 
      "#M, C1, K0, K2 = bicycle.benchmark_par_to_canonical(bp)", 
      "#bicycle.benchmark_state_space(M, C1, K0, K2, v, bp['g']) #define v before running"
     ], 
     "language": "python", 
     "outputs": [
      {
       "output_type": "stream", 
       "stream": "stdout", 
       "text": [
        "[               0,                                           0,                  1.0,                    0]", 
        "[               0,                                           0,                    0,                  1.0]", 
        "[9.48977444677355, -0.891197738059089*v**2 - 0.571523173729245, -0.105522449805691*v, -0.330515398992311*v]", 
        "[11.7194768719633,   -1.97171508499972*v**2 + 30.9087533932407,   3.67680523332153*v,  -3.08486552743311*v]"
       ]
      }
     ], 
     "prompt_number": 77
    }, 
    {
     "cell_type": "code", 
     "collapsed": false, 
     "input": [
      "W,V = eig(Am_6speed)", 
      "print W"
     ], 
     "language": "python", 
     "outputs": [
      {
       "output_type": "stream", 
       "stream": "stdout", 
       "text": [
        "[ -4.06690077e-03+0.j          -1.52644487e+00+5.87673061j", 
        "  -1.52644487e+00-5.87673061j  -1.60853712e+01+0.j        ]"
       ]
      }
     ], 
     "prompt_number": 90
    }, 
    {
     "cell_type": "code", 
     "collapsed": false, 
     "input": [
      "from sympy import Float", 
      "print Float(W[0].real, 15), '\\n'", 
      "print Float(W[1].real, 15), Float(W[1].imag, 15), '\\n'", 
      "print Float(W[3].real, 16)"
     ], 
     "language": "python", 
     "outputs": [
      {
       "output_type": "stream", 
       "stream": "stdout", 
       "text": [
        "-0.00406690076970415 ", 
        "", 
        "-1.52644486584142 5.87673060598709 ", 
        "", 
        "-16.08537123098026"
       ]
      }
     ], 
     "prompt_number": 112
    }, 
    {
     "cell_type": "code", 
     "collapsed": true, 
     "input": [], 
     "language": "python", 
     "outputs": [], 
     "prompt_number": 94
    }, 
    {
     "cell_type": "code", 
     "collapsed": true, 
     "input": [
      "# frame transfermation matrix"
     ], 
     "language": "python", 
     "outputs": [], 
     "prompt_number": 14
    }, 
    {
     "cell_type": "code", 
     "collapsed": false, 
     "input": [
      "cd /home/stefenyin/bicycle/BicycleThesis/constraint/seperated_file/"
     ], 
     "language": "python", 
     "outputs": [
      {
       "output_type": "stream", 
       "stream": "stdout", 
       "text": [
        "/home/stefenyin/bicycle/BicycleThesis/constraint/seperated_file"
       ]
      }
     ], 
     "prompt_number": 15
    }, 
    {
     "cell_type": "code", 
     "collapsed": false, 
     "input": [
      "run conforces_auxiliary.py"
     ], 
     "language": "python", 
     "outputs": [
      {
       "output_type": "stream", 
       "stream": "stdout", 
       "text": [
        "building the model", 
        "ready for special unit vectors; and points and velocities", 
        "ready for constraints; inertia; rigid bodies; bodylist"
       ]
      }, 
      {
       "output_type": "stream", 
       "stream": "stdout", 
       "text": [
        "", 
        "Kanes method"
       ]
      }
     ], 
     "prompt_number": 16
    }, 
    {
     "cell_type": "code", 
     "collapsed": false, 
     "input": [
      "mprint (A.dcm(N))", 
      "print ('\\n')", 
      "mprint (B.dcm(A))", 
      "print ('\\n')", 
      "mprint (C.dcm(B))", 
      "print ('\\n')", 
      "mprint (E.dcm(C))"
     ], 
     "language": "python", 
     "outputs": [
      {
       "output_type": "stream", 
       "stream": "stdout", 
       "text": [
        "[ cos(q1), sin(q1), 0]", 
        "[-sin(q1), cos(q1), 0]", 
        "[       0,       0, 1]", 
        "", 
        "", 
        "[1,        0,       0]", 
        "[0,  cos(q2), sin(q2)]", 
        "[0, -sin(q2), cos(q2)]", 
        "", 
        "", 
        "[cos(q3), 0, -sin(q3)]", 
        "[      0, 1,        0]", 
        "[sin(q3), 0,  cos(q3)]", 
        "", 
        "", 
        "[ cos(q4), sin(q4), 0]", 
        "[-sin(q4), cos(q4), 0]", 
        "[       0,       0, 1]"
       ]
      }
     ], 
     "prompt_number": 17
    }, 
    {
     "cell_type": "code", 
     "collapsed": true, 
     "input": [], 
     "language": "python", 
     "outputs": [], 
     "prompt_number": 17
    }, 
    {
     "cell_type": "code", 
     "collapsed": true, 
     "input": [
      "# newly defined unit vector"
     ], 
     "language": "python", 
     "outputs": [], 
     "prompt_number": 18
    }, 
    {
     "cell_type": "code", 
     "collapsed": false, 
     "input": [
      "mprint (g_3)", 
      "print '\\n'", 
      "mprint (lateral_v)", 
      "print '\\n'", 
      "mprint (long_v)"
     ], 
     "language": "python", 
     "outputs": [
      {
       "output_type": "stream", 
       "stream": "stdout", 
       "text": [
        "(sin(q2)*sin(q4) - sin(q3)*cos(q2)*cos(q4))/sqrt((sin(q2)*sin(q4) - sin(q3)*cos(q2)*cos(q4))**2 + cos(q2)**2*cos(q3)**2)*E['1'] + cos(q2)*cos(q3)/sqrt((sin(q2)*sin(q4) - sin(q3)*cos(q2)*cos(q4))**2 + cos(q2)**2*cos(q3)**2)*E['3']", 
        "", 
        "", 
        "- sin(q4)*cos(q3)/(sqrt((-sin(q2)*sin(q3)*sin(q4) + cos(q2)*cos(q4))**2/((-sin(q2)*sin(q3)*sin(q4) + cos(q2)*cos(q4))**2 + sin(q4)**2*cos(q3)**2) + sin(q4)**2*cos(q3)**2/((-sin(q2)*sin(q3)*sin(q4) + cos(q2)*cos(q4))**2 + sin(q4)**2*cos(q3)**2))*sqrt((-sin(q2)*sin(q3)*sin(q4) + cos(q2)*cos(q4))**2 + sin(q4)**2*cos(q3)**2))*A['1'] + (-sin(q2)*sin(q3)*sin(q4) + cos(q2)*cos(q4))/(sqrt((-sin(q2)*sin(q3)*sin(q4) + cos(q2)*cos(q4))**2/((-sin(q2)*sin(q3)*sin(q4) + cos(q2)*cos(q4))**2 + sin(q4)**2*cos(q3)**2) + sin(q4)**2*cos(q3)**2/((-sin(q2)*sin(q3)*sin(q4) + cos(q2)*cos(q4))**2 + sin(q4)**2*cos(q3)**2))*sqrt((-sin(q2)*sin(q3)*sin(q4) + cos(q2)*cos(q4))**2 + sin(q4)**2*cos(q3)**2))*A['2']", 
        "", 
        "", 
        "(-sin(q2)*sin(q3)*sin(q4) + cos(q2)*cos(q4))/sqrt((-sin(q2)*sin(q3)*sin(q4) + cos(q2)*cos(q4))**2 + sin(q4)**2*cos(q3)**2)*A['1'] + sin(q4)*cos(q3)/sqrt((-sin(q2)*sin(q3)*sin(q4) + cos(q2)*cos(q4))**2 + sin(q4)**2*cos(q3)**2)*A['2']"
       ]
      }
     ], 
     "prompt_number": 19
    }, 
    {
     "cell_type": "code", 
     "collapsed": true, 
     "input": [], 
     "language": "python", 
     "outputs": []
    }
   ]
  }
 ]
}