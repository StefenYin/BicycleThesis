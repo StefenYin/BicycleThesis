{
 "metadata": {
  "name": "1st_chapter"
 }, 
 "nbformat": 2, 
 "worksheets": [
  {
   "cells": [
    {
     "cell_type": "code", 
     "collapsed": false, 
     "input": [
      "import bicycledataprocessor as bdp"
     ], 
     "language": "python", 
     "outputs": [], 
     "prompt_number": 1
    }, 
    {
     "cell_type": "code", 
     "collapsed": true, 
     "input": [
      "dataset = bdp.DataSet()"
     ], 
     "language": "python", 
     "outputs": [], 
     "prompt_number": 2
    }, 
    {
     "cell_type": "code", 
     "collapsed": true, 
     "input": [
      "bdp.Run("
     ], 
     "language": "python", 
     "outputs": []
    }, 
    {
     "cell_type": "code", 
     "collapsed": false, 
     "input": [
      "run699 = bdp.Run('00699', dataset, pathToParameterData=\"/home/stefenyin/bicycle/bi_pypa/BicycleParameters/data/\", filterFreq=40.)"
     ], 
     "language": "python", 
     "outputs": [
      {
       "output_type": "stream", 
       "stream": "stdout", 
       "text": [
        "Initializing the run object.", 
        "Loading metadata from the database.", 
        "Loading the raw signals from the database.", 
        "Loading the bicycle and rider data for Luke on Rigid Rider"
       ]
      }, 
      {
       "ename": "TypeError", 
       "evalue": "'module' object is not callable", 
       "output_type": "pyerr", 
       "traceback": [
        "\u001b[0;31m---------------------------------------------------------------------------\u001b[0m\n\u001b[0;31mTypeError\u001b[0m                                 Traceback (most recent call last)", 
        "\u001b[0;32m/home/stefenyin/bicycle/BicycleThesis/notebook/<ipython-input-3-a5bd19c88911>\u001b[0m in \u001b[0;36m<module>\u001b[0;34m()\u001b[0m\n\u001b[0;32m----> 1\u001b[0;31m \u001b[0mrun699\u001b[0m \u001b[0;34m=\u001b[0m \u001b[0mbdp\u001b[0m\u001b[0;34m.\u001b[0m\u001b[0mRun\u001b[0m\u001b[0;34m(\u001b[0m\u001b[0;34m'00699'\u001b[0m\u001b[0;34m,\u001b[0m \u001b[0mdataset\u001b[0m\u001b[0;34m,\u001b[0m \u001b[0mpathToParameterData\u001b[0m\u001b[0;34m=\u001b[0m\u001b[0;34m\"/home/stefenyin/bicycle/bi_pypa/BicycleParameters/data/\"\u001b[0m\u001b[0;34m,\u001b[0m \u001b[0mfilterFreq\u001b[0m\u001b[0;34m=\u001b[0m\u001b[0;36m40.\u001b[0m\u001b[0;34m)\u001b[0m\u001b[0;34m\u001b[0m\u001b[0m\n\u001b[0m", 
        "\u001b[0;32m/home/stefenyin/bicycle/bi_pypa/BicycleDataProcessor/bicycledataprocessor/main.pyc\u001b[0m in \u001b[0;36m__init__\u001b[0;34m(self, runid, dataset, pathToParameterData, forceRecalc, filterFreq, store)\u001b[0m\n\u001b[1;32m    613\u001b[0m \u001b[0;34m\u001b[0m\u001b[0m\n\u001b[1;32m    614\u001b[0m         \u001b[0;32mif\u001b[0m \u001b[0mself\u001b[0m\u001b[0;34m.\u001b[0m\u001b[0mmetadata\u001b[0m\u001b[0;34m[\u001b[0m\u001b[0;34m'Rider'\u001b[0m\u001b[0;34m]\u001b[0m \u001b[0;34m!=\u001b[0m \u001b[0;34m'None'\u001b[0m\u001b[0;34m:\u001b[0m\u001b[0;34m\u001b[0m\u001b[0m\n\u001b[0;32m--> 615\u001b[0;31m             \u001b[0mself\u001b[0m\u001b[0;34m.\u001b[0m\u001b[0mload_rider\u001b[0m\u001b[0;34m(\u001b[0m\u001b[0mpathToParameterData\u001b[0m\u001b[0;34m)\u001b[0m\u001b[0;34m\u001b[0m\u001b[0m\n\u001b[0m\u001b[1;32m    616\u001b[0m             \u001b[0mself\u001b[0m\u001b[0;34m.\u001b[0m\u001b[0mcalculated_parameters\u001b[0m\u001b[0;34m(\u001b[0m\u001b[0;34m)\u001b[0m\u001b[0;34m\u001b[0m\u001b[0m\n\u001b[1;32m    617\u001b[0m \u001b[0;34m\u001b[0m\u001b[0m\n", 
        "\u001b[0;32m/home/stefenyin/bicycle/bi_pypa/BicycleDataProcessor/bicycledataprocessor/main.pyc\u001b[0m in \u001b[0;36mload_rider\u001b[0;34m(self, pathToParameterData)\u001b[0m\n\u001b[1;32m   1406\u001b[0m             \u001b[0mself\u001b[0m\u001b[0;34m.\u001b[0m\u001b[0mbicycle\u001b[0m\u001b[0;34m.\u001b[0m\u001b[0msave_parameters\u001b[0m\u001b[0;34m(\u001b[0m\u001b[0;34m)\u001b[0m\u001b[0;34m\u001b[0m\u001b[0m\n\u001b[1;32m   1407\u001b[0m         \u001b[0;31m# force a recalculation of the human parameters\u001b[0m\n\u001b[0;34m\u001b[0m\u001b[0m\n\u001b[0;32m-> 1408\u001b[0;31m         \u001b[0mself\u001b[0m\u001b[0;34m.\u001b[0m\u001b[0mbicycle\u001b[0m\u001b[0;34m.\u001b[0m\u001b[0madd_rider\u001b[0m\u001b[0;34m(\u001b[0m\u001b[0mrider\u001b[0m\u001b[0;34m)\u001b[0m\u001b[0;34m\u001b[0m\u001b[0m\n\u001b[0m\u001b[1;32m   1409\u001b[0m         \u001b[0;32mif\u001b[0m \u001b[0mself\u001b[0m\u001b[0;34m.\u001b[0m\u001b[0mbicycle\u001b[0m\u001b[0;34m.\u001b[0m\u001b[0mhuman\u001b[0m \u001b[0;32mis\u001b[0m \u001b[0;32mnot\u001b[0m \u001b[0mNone\u001b[0m\u001b[0;34m:\u001b[0m\u001b[0;34m\u001b[0m\u001b[0m\n\u001b[1;32m   1410\u001b[0m             \u001b[0mself\u001b[0m\u001b[0;34m.\u001b[0m\u001b[0mbicycle\u001b[0m\u001b[0;34m.\u001b[0m\u001b[0msave_parameters\u001b[0m\u001b[0;34m(\u001b[0m\u001b[0;34m)\u001b[0m\u001b[0;34m\u001b[0m\u001b[0m\n", 
        "\u001b[0;32m/home/stefenyin/bicycle/bi_pypa/BicycleParameters/bicycleparameters/main.pyc\u001b[0m in \u001b[0;36madd_rider\u001b[0;34m(self, riderName, reCalc, draw)\u001b[0m\n\u001b[1;32m    465\u001b[0m                     \u001b[0mriderPar\u001b[0m\u001b[0;34m,\u001b[0m \u001b[0mhuman\u001b[0m\u001b[0;34m,\u001b[0m \u001b[0mbicycleRiderPar\u001b[0m \u001b[0;34m=\u001b[0m\u001b[0;31m\\\u001b[0m\u001b[0;34m\u001b[0m\u001b[0m\n\u001b[1;32m    466\u001b[0m                         rider.configure_rider(pathToRider, bicycleName,\n\u001b[0;32m--> 467\u001b[0;31m                                 bicyclePar, measuredPar, draw)\n\u001b[0m\u001b[1;32m    468\u001b[0m                 \u001b[0;32melse\u001b[0m\u001b[0;34m:\u001b[0m\u001b[0;34m\u001b[0m\u001b[0m\n\u001b[1;32m    469\u001b[0m                     print(\"Loaded the precalculated parameters from \" +\n", 
        "\u001b[0;32m/home/stefenyin/bicycle/bi_pypa/BicycleParameters/bicycleparameters/rider.pyc\u001b[0m in \u001b[0;36mconfigure_rider\u001b[0;34m(pathToRider, bicycle, bicyclePar, measuredPar, draw)\u001b[0m\n\u001b[1;32m     52\u001b[0m         \u001b[0;31m# generate the human that has been configured to sit on the bicycle\u001b[0m\n\u001b[0;34m\u001b[0m\u001b[0m\n\u001b[1;32m     53\u001b[0m         human = rider_on_bike(bicyclePar, measuredPar,\n\u001b[0;32m---> 54\u001b[0;31m                               pathToYeadon, pathToCFG, draw)\n\u001b[0m\u001b[1;32m     55\u001b[0m         \u001b[0;31m# build a dictionary to store the inertial data\u001b[0m\n\u001b[0;34m\u001b[0m\u001b[0m\n\u001b[1;32m     56\u001b[0m         riderPar = {'IBxx': human.Inertia[0, 0],\n", 
        "\u001b[0;32m/home/stefenyin/bicycle/bi_pypa/BicycleParameters/bicycleparameters/rider.pyc\u001b[0m in \u001b[0;36mrider_on_bike\u001b[0;34m(benchmarkPar, measuredPar, yeadonMeas, yeadonCFG, drawrider)\u001b[0m\n\u001b[1;32m    117\u001b[0m \u001b[0;34m\u001b[0m\u001b[0m\n\u001b[1;32m    118\u001b[0m     \u001b[0;31m# create human using input measurements and configuration files\u001b[0m\n\u001b[0;34m\u001b[0m\u001b[0m\n\u001b[0;32m--> 119\u001b[0;31m     \u001b[0mH\u001b[0m \u001b[0;34m=\u001b[0m \u001b[0myeadon\u001b[0m\u001b[0;34m.\u001b[0m\u001b[0mhuman\u001b[0m\u001b[0;34m(\u001b[0m\u001b[0myeadonMeas\u001b[0m\u001b[0;34m,\u001b[0m \u001b[0myeadonCFG\u001b[0m\u001b[0;34m)\u001b[0m\u001b[0;34m\u001b[0m\u001b[0m\n\u001b[0m\u001b[1;32m    120\u001b[0m \u001b[0;34m\u001b[0m\u001b[0m\n\u001b[1;32m    121\u001b[0m     \u001b[0mmeasuredPar\u001b[0m \u001b[0;34m=\u001b[0m \u001b[0mremove_uncertainties\u001b[0m\u001b[0;34m(\u001b[0m\u001b[0mmeasuredPar\u001b[0m\u001b[0;34m)\u001b[0m\u001b[0;34m\u001b[0m\u001b[0m\n", 
        "\u001b[0;31mTypeError\u001b[0m: 'module' object is not callable"
       ]
      }, 
      {
       "output_type": "stream", 
       "stream": "stdout", 
       "text": [
        "", 
        "We have foundeth a directory named: /home/stefenyin/bicycle/bi_pypa/BicycleParameters/data/bicycles/Rigidcl.", 
        "Found the RawData directory: /home/stefenyin/bicycle/bi_pypa/BicycleParameters/data/bicycles/Rigidcl/RawData", 
        "Looks like you've already got some parameters for Rigidcl, use forceRawCalc to recalculate.", 
        "There is no rider on the bicycle, now adding Luke.", 
        "No parameter files found, calculating the human configuration.", 
        "Calculations in yeadon failed. No rider added."
       ]
      }
     ], 
     "prompt_number": 3
    }, 
    {
     "cell_type": "code", 
     "collapsed": true, 
     "input": [
      "import yeadon"
     ], 
     "language": "python", 
     "outputs": [], 
     "prompt_number": 4
    }, 
    {
     "cell_type": "code", 
     "collapsed": true, 
     "input": [], 
     "language": "python", 
     "outputs": []
    }
   ]
  }
 ]
}